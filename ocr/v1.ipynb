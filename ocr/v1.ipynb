{
 "cells": [
  {
   "cell_type": "code",
   "execution_count": null,
   "metadata": {},
   "outputs": [],
   "source": [
    "!pip3 install torch torchvision torchaudio"
   ]
  },
  {
   "cell_type": "code",
   "execution_count": null,
   "metadata": {},
   "outputs": [],
   "source": [
    "!pip install easyocr"
   ]
  },
  {
   "cell_type": "code",
   "execution_count": 5,
   "metadata": {},
   "outputs": [
    {
     "name": "stdout",
     "output_type": "stream",
     "text": [
      "Requirement already satisfied: pillow in c:\\users\\somrita\\anaconda3\\envs\\myenv1\\lib\\site-packages (10.0.0)\n"
     ]
    }
   ],
   "source": [
    "!pip install pillow"
   ]
  },
  {
   "cell_type": "code",
   "execution_count": 6,
   "metadata": {},
   "outputs": [
    {
     "name": "stdout",
     "output_type": "stream",
     "text": [
      "Requirement already satisfied: pyTesseract in c:\\users\\somrita\\anaconda3\\envs\\myenv1\\lib\\site-packages (0.3.10)\n",
      "Requirement already satisfied: packaging>=21.3 in c:\\users\\somrita\\anaconda3\\envs\\myenv1\\lib\\site-packages (from pyTesseract) (23.1)\n",
      "Requirement already satisfied: Pillow>=8.0.0 in c:\\users\\somrita\\anaconda3\\envs\\myenv1\\lib\\site-packages (from pyTesseract) (10.0.0)\n"
     ]
    }
   ],
   "source": [
    "!pip install pyTesseract"
   ]
  },
  {
   "cell_type": "code",
   "execution_count": 1,
   "metadata": {},
   "outputs": [],
   "source": [
    "import pytesseract\n",
    "import numpy as np\n",
    "import cv2\n",
    "import matplotlib.pyplot as plt\n",
    "from PIL import Image"
   ]
  },
  {
   "cell_type": "code",
   "execution_count": 2,
   "metadata": {},
   "outputs": [
    {
     "data": {
      "text/plain": [
       "\"filename = 'pic1.png'\\nimg1 = np.array(Image.open(filename))\\ntext = pytesseract.image_to_string(img1)\\nprint(text)\""
      ]
     },
     "execution_count": 2,
     "metadata": {},
     "output_type": "execute_result"
    }
   ],
   "source": [
    "tesseract_path = r'C:\\Program Files\\Tesseract-OCR\\tesseract.exe'\n",
    "# Configure pytesseract to use the Tesseract OCR engine\n",
    "pytesseract.pytesseract.tesseract_cmd = r'C:\\\\Program Files\\\\Tesseract-OCR\\\\tesseract.exe'\n",
    "'''filename = 'pic1.png'\n",
    "img1 = np.array(Image.open(filename))\n",
    "text = pytesseract.image_to_string(img1)\n",
    "print(text)'''"
   ]
  },
  {
   "cell_type": "code",
   "execution_count": 3,
   "metadata": {},
   "outputs": [],
   "source": [
    "img=cv2.imread('1.png')\n",
    "\n",
    "#IMAGE_PATH = 'surf.jpeg'\n",
    "cv2.imshow('image',img)\n",
    "cv2.waitKey(0)\n",
    "cv2.destroyAllWindows()"
   ]
  },
  {
   "cell_type": "code",
   "execution_count": 4,
   "metadata": {},
   "outputs": [
    {
     "name": "stdout",
     "output_type": "stream",
     "text": [
      "Definition of OCR\n",
      "\n",
      "OCR (Optical Character Recognition) is a technology that\n",
      "converts scanned documents, PDFs, and images into\n",
      "machine-readable text.\n",
      "\n",
      "OCR analyzes an image or document containing printed or\n",
      "handwritten characters and then translates it into editable\n",
      "electronic text. OCR software can recognize various alphabets,\n",
      "numbers, and symbols.\n",
      "\n"
     ]
    }
   ],
   "source": [
    "text=pytesseract.image_to_string(img)\n",
    "print(text)"
   ]
  },
  {
   "cell_type": "code",
   "execution_count": 13,
   "metadata": {},
   "outputs": [],
   "source": [
    "pdf=cv2.imread('cover_letter.pdf')"
   ]
  },
  {
   "cell_type": "code",
   "execution_count": null,
   "metadata": {},
   "outputs": [],
   "source": [
    "text=pytesseract.image_to_string(pdf)\n",
    "print(text)"
   ]
  },
  {
   "cell_type": "code",
   "execution_count": 5,
   "metadata": {},
   "outputs": [
    {
     "name": "stderr",
     "output_type": "stream",
     "text": [
      "Neither CUDA nor MPS are available - defaulting to CPU. Note: This module is much faster with a GPU.\n",
      "Downloading detection model, please wait. This may take several minutes depending upon your network connection.\n"
     ]
    },
    {
     "name": "stdout",
     "output_type": "stream",
     "text": [
      "Progress: |██████████████████████████████████████████████████| 100.0% Complete"
     ]
    },
    {
     "name": "stderr",
     "output_type": "stream",
     "text": [
      "Downloading recognition model, please wait. This may take several minutes depending upon your network connection.\n"
     ]
    },
    {
     "name": "stdout",
     "output_type": "stream",
     "text": [
      "Progress: |██████████████████████████████████████████████████| 100.0% Complete"
     ]
    },
    {
     "ename": "AttributeError",
     "evalue": "module 'PIL.Image' has no attribute 'ANTIALIAS'",
     "output_type": "error",
     "traceback": [
      "\u001b[1;31m---------------------------------------------------------------------------\u001b[0m",
      "\u001b[1;31mAttributeError\u001b[0m                            Traceback (most recent call last)",
      "Cell \u001b[1;32mIn[5], line 2\u001b[0m\n\u001b[0;32m      1\u001b[0m reader \u001b[39m=\u001b[39m easyocr\u001b[39m.\u001b[39mReader([\u001b[39m'\u001b[39m\u001b[39men\u001b[39m\u001b[39m'\u001b[39m])\n\u001b[1;32m----> 2\u001b[0m result \u001b[39m=\u001b[39m reader\u001b[39m.\u001b[39;49mreadtext(IMAGE_PATH)\n\u001b[0;32m      3\u001b[0m result\n",
      "File \u001b[1;32mc:\\Users\\somrita\\anaconda3\\envs\\myenv1\\lib\\site-packages\\easyocr\\easyocr.py:464\u001b[0m, in \u001b[0;36mReader.readtext\u001b[1;34m(self, image, decoder, beamWidth, batch_size, workers, allowlist, blocklist, detail, rotation_info, paragraph, min_size, contrast_ths, adjust_contrast, filter_ths, text_threshold, low_text, link_threshold, canvas_size, mag_ratio, slope_ths, ycenter_ths, height_ths, width_ths, y_ths, x_ths, add_margin, threshold, bbox_min_score, bbox_min_size, max_candidates, output_format)\u001b[0m\n\u001b[0;32m    462\u001b[0m \u001b[39m# get the 1st result from hor & free list as self.detect returns a list of depth 3\u001b[39;00m\n\u001b[0;32m    463\u001b[0m horizontal_list, free_list \u001b[39m=\u001b[39m horizontal_list[\u001b[39m0\u001b[39m], free_list[\u001b[39m0\u001b[39m]\n\u001b[1;32m--> 464\u001b[0m result \u001b[39m=\u001b[39m \u001b[39mself\u001b[39;49m\u001b[39m.\u001b[39;49mrecognize(img_cv_grey, horizontal_list, free_list,\\\n\u001b[0;32m    465\u001b[0m                         decoder, beamWidth, batch_size,\\\n\u001b[0;32m    466\u001b[0m                         workers, allowlist, blocklist, detail, rotation_info,\\\n\u001b[0;32m    467\u001b[0m                         paragraph, contrast_ths, adjust_contrast,\\\n\u001b[0;32m    468\u001b[0m                         filter_ths, y_ths, x_ths, \u001b[39mFalse\u001b[39;49;00m, output_format)\n\u001b[0;32m    470\u001b[0m \u001b[39mreturn\u001b[39;00m result\n",
      "File \u001b[1;32mc:\\Users\\somrita\\anaconda3\\envs\\myenv1\\lib\\site-packages\\easyocr\\easyocr.py:383\u001b[0m, in \u001b[0;36mReader.recognize\u001b[1;34m(self, img_cv_grey, horizontal_list, free_list, decoder, beamWidth, batch_size, workers, allowlist, blocklist, detail, rotation_info, paragraph, contrast_ths, adjust_contrast, filter_ths, y_ths, x_ths, reformat, output_format)\u001b[0m\n\u001b[0;32m    381\u001b[0m h_list \u001b[39m=\u001b[39m [bbox]\n\u001b[0;32m    382\u001b[0m f_list \u001b[39m=\u001b[39m []\n\u001b[1;32m--> 383\u001b[0m image_list, max_width \u001b[39m=\u001b[39m get_image_list(h_list, f_list, img_cv_grey, model_height \u001b[39m=\u001b[39;49m imgH)\n\u001b[0;32m    384\u001b[0m result0 \u001b[39m=\u001b[39m get_text(\u001b[39mself\u001b[39m\u001b[39m.\u001b[39mcharacter, imgH, \u001b[39mint\u001b[39m(max_width), \u001b[39mself\u001b[39m\u001b[39m.\u001b[39mrecognizer, \u001b[39mself\u001b[39m\u001b[39m.\u001b[39mconverter, image_list,\\\n\u001b[0;32m    385\u001b[0m               ignore_char, decoder, beamWidth, batch_size, contrast_ths, adjust_contrast, filter_ths,\\\n\u001b[0;32m    386\u001b[0m               workers, \u001b[39mself\u001b[39m\u001b[39m.\u001b[39mdevice)\n\u001b[0;32m    387\u001b[0m result \u001b[39m+\u001b[39m\u001b[39m=\u001b[39m result0\n",
      "File \u001b[1;32mc:\\Users\\somrita\\anaconda3\\envs\\myenv1\\lib\\site-packages\\easyocr\\utils.py:613\u001b[0m, in \u001b[0;36mget_image_list\u001b[1;34m(horizontal_list, free_list, img, model_height, sort_output)\u001b[0m\n\u001b[0;32m    611\u001b[0m     \u001b[39mpass\u001b[39;00m\n\u001b[0;32m    612\u001b[0m \u001b[39melse\u001b[39;00m:\n\u001b[1;32m--> 613\u001b[0m     crop_img,ratio \u001b[39m=\u001b[39m compute_ratio_and_resize(crop_img,width,height,model_height)\n\u001b[0;32m    614\u001b[0m     image_list\u001b[39m.\u001b[39mappend( ( [[x_min,y_min],[x_max,y_min],[x_max,y_max],[x_min,y_max]] ,crop_img) )\n\u001b[0;32m    615\u001b[0m     max_ratio_hori \u001b[39m=\u001b[39m \u001b[39mmax\u001b[39m(ratio, max_ratio_hori)\n",
      "File \u001b[1;32mc:\\Users\\somrita\\anaconda3\\envs\\myenv1\\lib\\site-packages\\easyocr\\utils.py:576\u001b[0m, in \u001b[0;36mcompute_ratio_and_resize\u001b[1;34m(img, width, height, model_height)\u001b[0m\n\u001b[0;32m    574\u001b[0m     img \u001b[39m=\u001b[39m cv2\u001b[39m.\u001b[39mresize(img,(model_height,\u001b[39mint\u001b[39m(model_height\u001b[39m*\u001b[39mratio)), interpolation\u001b[39m=\u001b[39mImage\u001b[39m.\u001b[39mANTIALIAS)\n\u001b[0;32m    575\u001b[0m \u001b[39melse\u001b[39;00m:\n\u001b[1;32m--> 576\u001b[0m     img \u001b[39m=\u001b[39m cv2\u001b[39m.\u001b[39mresize(img,(\u001b[39mint\u001b[39m(model_height\u001b[39m*\u001b[39mratio),model_height),interpolation\u001b[39m=\u001b[39mImage\u001b[39m.\u001b[39;49mANTIALIAS)\n\u001b[0;32m    577\u001b[0m \u001b[39mreturn\u001b[39;00m img,ratio\n",
      "\u001b[1;31mAttributeError\u001b[0m: module 'PIL.Image' has no attribute 'ANTIALIAS'"
     ]
    }
   ],
   "source": [
    "reader = easyocr.Reader(['en'])\n",
    "result = reader.readtext(IMAGE_PATH)\n",
    "result"
   ]
  }
 ],
 "metadata": {
  "kernelspec": {
   "display_name": "myenv1",
   "language": "python",
   "name": "python3"
  },
  "language_info": {
   "codemirror_mode": {
    "name": "ipython",
    "version": 3
   },
   "file_extension": ".py",
   "mimetype": "text/x-python",
   "name": "python",
   "nbconvert_exporter": "python",
   "pygments_lexer": "ipython3",
   "version": "3.11.4"
  },
  "orig_nbformat": 4
 },
 "nbformat": 4,
 "nbformat_minor": 2
}
